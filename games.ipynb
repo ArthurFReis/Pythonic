{
  "nbformat": 4,
  "nbformat_minor": 0,
  "metadata": {
    "colab": {
      "private_outputs": true,
      "provenance": [],
      "authorship_tag": "ABX9TyMc9xj1AJ4fndSf4j8rOqJZ",
      "include_colab_link": true
    },
    "kernelspec": {
      "name": "python3",
      "display_name": "Python 3"
    },
    "language_info": {
      "name": "python"
    }
  },
  "cells": [
    {
      "cell_type": "markdown",
      "metadata": {
        "id": "view-in-github",
        "colab_type": "text"
      },
      "source": [
        "<a href=\"https://colab.research.google.com/github/ArthurFReis/Pythonic/blob/main/games.ipynb\" target=\"_parent\"><img src=\"https://colab.research.google.com/assets/colab-badge.svg\" alt=\"Open In Colab\"/></a>"
      ]
    },
    {
      "cell_type": "code",
      "execution_count": null,
      "metadata": {
        "id": "7gtlbkIqu-kl"
      },
      "outputs": [],
      "source": [
        "import pandas as pd\n",
        "import numpy as np\n",
        "import matplotlib.pyplot as plt\n",
        "import seaborn as sns\n",
        "import scipy as sc\n"
      ]
    },
    {
      "cell_type": "code",
      "source": [
        "formulario = pd.read_csv(\"Formulario_Respostas.csv\")\n",
        "jogos = pd.read_csv(\"Jogos.csv\")"
      ],
      "metadata": {
        "id": "n4FZf5lg4Huu"
      },
      "execution_count": null,
      "outputs": []
    },
    {
      "cell_type": "code",
      "source": [
        "def entendendo_formulario_jogos(formulario, jogos):\n",
        "  descicao_formulario = formulario.describe()\n",
        "  descricao_jogos = jogos.describe()\n",
        "  forma_formulario = formulario.shape\n",
        "  forma_jogos = jogos.shape\n",
        "  colunas_formulario = formulario.columns\n",
        "  colunas_jogos = jogos.columns\n",
        "  tipos_variaveis_formulario = formulario.dtypes\n",
        "  tipos_variaveis_jogos = jogos.dtypes\n",
        "  nulo_fomulario = formulario.isnull().sum()\n",
        "  nulo_jogos = jogos.isnull().sum()\n",
        "  return print(f\"{descicao_formulario}\\n\\n{descricao_jogos}\\n\\n{forma_formulario}\\n\\n{forma_jogos}\\n\\n{colunas_formulario}\\n\\n{colunas_jogos}\\n\\n{tipos_variaveis_formulario}\\n\\n{tipos_variaveis_jogos}\\n\\n{nulo_fomulario}\\n\\n{nulo_jogos}\");\n",
        "  \n"
      ],
      "metadata": {
        "id": "0AnXW7LH5AIv"
      },
      "execution_count": null,
      "outputs": []
    },
    {
      "cell_type": "code",
      "source": [
        "entendendo_formulario_jogos(formulario, jogos)"
      ],
      "metadata": {
        "id": "TbiEjMIC5Hv4"
      },
      "execution_count": null,
      "outputs": []
    },
    {
      "cell_type": "code",
      "source": [
        "def histogramas(formulario, jogos):\n",
        "  histogramas_formulario = formulario.hist()\n",
        "  histogramas_jogos = jogos.hist()\n",
        "  return print(f\"{histogramas_formulario}\\n\\n{histogramas_jogos}\")"
      ],
      "metadata": {
        "id": "OEO-pypZABWK"
      },
      "execution_count": null,
      "outputs": []
    },
    {
      "cell_type": "code",
      "source": [
        "histogramas(formulario, jogos)"
      ],
      "metadata": {
        "id": "7riw4hQpAoZ0"
      },
      "execution_count": null,
      "outputs": []
    },
    {
      "cell_type": "code",
      "source": [
        "def separando_tipos(formulario, jogos):\n",
        "  formulario_int64 = formulario.select_dtypes(include='int64')\n",
        "  jogos_int64 = jogos.select_dtypes(include='int64')\n",
        "  formulario_objeto = formulario.select_dtypes(include='object')\n",
        "  jogos_objeto = jogos.select_dtypes(include='object')\n",
        "  return print(f\"{formulario_int64}\\n\\n{jogos_int64}\\n\\n{formulario_objeto}\\n\\n{jogos_objeto}\")"
      ],
      "metadata": {
        "id": "vNCzL9i2Bb7R"
      },
      "execution_count": null,
      "outputs": []
    },
    {
      "cell_type": "code",
      "source": [
        "separando_tipos(formulario, jogos)"
      ],
      "metadata": {
        "id": "5UPUsBDOd5VI"
      },
      "execution_count": null,
      "outputs": []
    },
    {
      "cell_type": "code",
      "source": [
        "colunas_formulario_objeto = [coluna for coluna in formulario_objeto.columns]\n",
        "colunas_jogos_objeto = [coluna for coluna in jogos_objeto.columns]"
      ],
      "metadata": {
        "id": "-eCyvlLVDK92"
      },
      "execution_count": null,
      "outputs": []
    },
    {
      "cell_type": "code",
      "source": [
        "nota_jogo = jogos[jogos['Nota_jogo'] >= 90]\n",
        "jogos = pd.DataFrame(jogos)\n",
        "grupo = []\n",
        "agrupado = jogos.groupby('Nota_jogo')\n",
        "\n",
        "grupo = [i for i in agrupado]"
      ],
      "metadata": {
        "id": "qWRNUkdWDqDR"
      },
      "execution_count": null,
      "outputs": []
    },
    {
      "cell_type": "code",
      "source": [
        "correlacao_formulario = formulario.corr()\n",
        "correlacao_formulario"
      ],
      "metadata": {
        "id": "Q3QExQ9HMgTz"
      },
      "execution_count": null,
      "outputs": []
    },
    {
      "cell_type": "code",
      "source": [
        "correlacao_jogos = jogos.corr()\n",
        "correlacao_jogos"
      ],
      "metadata": {
        "id": "NhgjsePghJQp"
      },
      "execution_count": null,
      "outputs": []
    },
    {
      "cell_type": "code",
      "source": [
        "formulario = pd.DataFrame(formulario)\n",
        "formulario = pd.get_dummies(formulario)\n",
        "X = [i for i in formulario['Quantidade_Amigos']]\n",
        "X = pd.get_dummies(X)\n",
        "y = formulario.drop('Quantidade_Amigos', axis=1)\n",
        "y = formulario.drop('Idade', axis=1)\n",
        "y\n"
      ],
      "metadata": {
        "id": "wRxfT55pmxN-"
      },
      "execution_count": null,
      "outputs": []
    },
    {
      "cell_type": "code",
      "source": [
        "#  reg = LinearRegression().fit(X_train, y_train)"
      ],
      "metadata": {
        "id": "3nGWza1uvmH9"
      },
      "execution_count": null,
      "outputs": []
    }
  ]
}